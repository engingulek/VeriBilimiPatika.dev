{
  "metadata": {
    "language_info": {
      "codemirror_mode": {
        "name": "python",
        "version": 3
      },
      "file_extension": ".py",
      "mimetype": "text/x-python",
      "name": "python",
      "nbconvert_exporter": "python",
      "pygments_lexer": "ipython3",
      "version": "3.8"
    },
    "kernelspec": {
      "name": "python",
      "display_name": "Python (Pyodide)",
      "language": "python"
    }
  },
  "nbformat_minor": 4,
  "nbformat": 4,
  "cells": [
    {
      "cell_type": "code",
      "source": "def reverseList(lst): \n    lst.reverse() \n    return lst \n\nlst = [[1, 2], [3, 4], [5, 6, 7]] \na = reverseList(lst)\nnewList = []\nfor i in a:\n    k = reverseList(i)\n    newList.append(k)\nprint(newList)",
      "metadata": {
        "trusted": true
      },
      "execution_count": 1,
      "outputs": [
        {
          "name": "stdout",
          "text": "[[7, 6, 5], [4, 3], [2, 1]]\n",
          "output_type": "stream"
        }
      ]
    },
    {
      "cell_type": "code",
      "source": "dataList = [[1,'a',['cat'],2],[[[3]],'dog'],4,5]\n\nnewList=[]\ndef flatten(x):\n    for i in x:\n        if  isinstance(i,list):\n            flatten(i)\n        else:\n            newList.append(i)\n    return newList\nprint(flatten(dataList))",
      "metadata": {
        "trusted": true
      },
      "execution_count": 2,
      "outputs": [
        {
          "name": "stdout",
          "text": "[1, 'a', 'cat', 2, 3, 'dog', 4, 5]\n",
          "output_type": "stream"
        }
      ]
    },
    {
      "cell_type": "code",
      "source": "",
      "metadata": {},
      "execution_count": null,
      "outputs": []
    }
  ]
}